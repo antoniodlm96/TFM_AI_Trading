{
  "nbformat": 4,
  "nbformat_minor": 0,
  "metadata": {
    "colab": {
      "provenance": []
    },
    "kernelspec": {
      "name": "python3",
      "display_name": "Python 3"
    },
    "language_info": {
      "name": "python"
    },
    "accelerator": "GPU",
    "gpuClass": "standard"
  },
  "cells": [
    {
      "cell_type": "code",
      "source": [
        "%%capture\n",
        "\n",
        "!pip install yfinance\n",
        "!pip install pyspark"
      ],
      "metadata": {
        "id": "6uKKU3rBi-p-"
      },
      "execution_count": 59,
      "outputs": []
    },
    {
      "cell_type": "code",
      "execution_count": 60,
      "metadata": {
        "id": "lSv4wiyDitIV"
      },
      "outputs": [],
      "source": [
        "import yfinance as yf\n",
        "import pyspark.sql.functions as f\n",
        "from pyspark.sql.window import Window\n",
        "\n",
        "\n",
        "def calculate_performance(dataframe):\n",
        "    dataframe = dataframe.withColumn(\"ID\", f.monotonically_increasing_id())\n",
        "\n",
        "    w = Window().partitionBy().orderBy(\"ID\")\n",
        "\n",
        "    dataframe = dataframe.withColumn(\"Performance\",\n",
        "                                     (f.col(\"close\") - f.lag(\"close\", 1).over(w)) / f.lag(\"close\", 1).over(w))\n",
        "    dataframe = dataframe.withColumn(\"Performance\", f.round(\"Performance\", 5)).drop(\"ID\")\n",
        "\n",
        "    return dataframe\n",
        "\n",
        "\n",
        "def download_stock_data(spark, stock, period, interval):\n",
        "    print(\"Downloading \" + stock +\n",
        "          \" stock data. Period: \" + period +\n",
        "          \" Interval: \" + interval)\n",
        "\n",
        "    data = yf.download(stock, period=period, interval=interval)\n",
        "    data['DateTime'] = data.index\n",
        "    data = data[data[\"DateTime\"] > \"1970-01-01\"]  # Fix Overflow error from mktime\n",
        "    dataframe = spark.createDataFrame(data)\n",
        "    dataframe = calculate_performance(dataframe)\n",
        "\n",
        "    return dataframe\n",
        "\n",
        "\n",
        "def write_stock_data(spark, dataframe, stock, period, interval):\n",
        "    dataframe.write.format(\"parquet\").mode(\"overwrite\").save(\"../data/stocks/\" + stock +\n",
        "                                                             \"_period=\" + period +\n",
        "                                                             \"_interval=\" + interval +\n",
        "                                                             \".parquet\")\n",
        "    write_stock_log(spark, stock, period, interval)\n",
        "\n",
        "\n",
        "def read_stock_data(spark, stock, period, interval):\n",
        "    return spark.read.load(\"../data/stocks/\" + stock +\n",
        "                           \"_period=\" + period +\n",
        "                           \"_interval=\" + interval +\n",
        "                           \".parquet\")\n",
        "\n",
        "\n",
        "def write_stock_log(spark, stock, period, interval):\n",
        "    try:\n",
        "        df = spark.read.load(\"../data/stock_inventory.parquet\")\n",
        "        if df.filter(df.Stock == stock).count() > 0:\n",
        "            df_to_write = df.withColumn(\"Last_Update\",\n",
        "                                        f.when(df.Stock == stock,\n",
        "                                               f.date_format(f.current_timestamp(),\n",
        "                                                             \"dd/MM/yyyy HH:mm\")).otherwise(\n",
        "                                            df.Last_Update))\n",
        "            print(\"Log Updated \" + stock +\n",
        "                  \"_period=\" + period +\n",
        "                  \"_interval=\" + interval + \"\\n\")\n",
        "\n",
        "        else:\n",
        "            new_row = spark.createDataFrame(\n",
        "                [[stock, period, interval]],\n",
        "                [\"Stock\", \"Period\", \"Interval\"])\n",
        "            new_row = new_row.withColumn(\"Last_Update\", f.date_format(f.current_timestamp(), \"dd/MM/yyyy HH:mm\"))\n",
        "            df_to_write = df.union(new_row)\n",
        "\n",
        "            print(\"Log Created \" + stock +\n",
        "                  \"_period=\" + period +\n",
        "                  \"_interval=\" + interval + \"\\n\")\n",
        "\n",
        "    except:\n",
        "        df_to_write = spark.createDataFrame(\n",
        "            [[stock, period, interval]],\n",
        "            [\"Stock\", \"Period\", \"Interval\"])\n",
        "\n",
        "        df_to_write = df_to_write.withColumn(\"Last_Update\", f.date_format(f.current_timestamp(), \"dd/MM/yyyy HH:mm\"))\n",
        "        print(\"Log Created\")\n",
        "\n",
        "    df_to_write.write.format(\"parquet\").mode(\"overwrite\").save(\"../data/temp/stock_inventory.parquet\")\n",
        "    df = spark.read.load(\"../data/temp/stock_inventory.parquet\")\n",
        "    df.write.format(\"parquet\").mode(\"overwrite\").save(\"../data/stock_inventory.parquet\")\n",
        "\n",
        "\n",
        "def read_stock_log(spark):\n",
        "    return spark.read.load(\"../data/stock_inventory.parquet\")\n",
        "\n",
        "\n",
        "def write_portfolio_list(spark, stock_list, num_shares_list, buy_dates_list, performance_list, min_date, max_date):\n",
        "    try:\n",
        "        df = spark.read.load(\"../data/portfolio_inventory.parquet\")\n",
        "        id_count = df.select(\"ID\").rdd.max()[0] + 1\n",
        "        new_row = spark.createDataFrame(\n",
        "            [[id_count, stock_list, num_shares_list, buy_dates_list, performance_list, min_date, max_date]],\n",
        "            [\"ID\", \"Stock_List\", \"Number_Shares_List\", \"Buy_Dates_List\", \"Performance_List\", \"Min_Date\", \"Max_Date\"])\n",
        "        df_to_write = df.union(new_row)\n",
        "\n",
        "    except:\n",
        "        df_to_write = spark.createDataFrame(\n",
        "            [[1, stock_list, num_shares_list, buy_dates_list, performance_list, min_date, max_date]],\n",
        "            [\"ID\", \"Stock_List\", \"Number_Shares_List\", \"Buy_Dates_List\", \"Performance_List\", \"Min_Date\", \"Max_Date\"])\n",
        "\n",
        "    df_to_write.write.format(\"parquet\").mode(\"overwrite\").save(\"../data/temp/portfolio_inventory.parquet\")\n",
        "    df = spark.read.load(\"../data/temp/portfolio_inventory.parquet\")\n",
        "    df.write.format(\"parquet\").mode(\"overwrite\").save(\"../data/portfolio_inventory.parquet\")\n",
        "\n",
        "\n",
        "def read_portfolio_list(spark):\n",
        "    return spark.read.load(\"../data/portfolio_inventory.parquet\")\n"
      ]
    },
    {
      "cell_type": "code",
      "source": [
        "import math\n",
        "import numpy as np\n",
        "import tensorflow as tf\n",
        "from sklearn.preprocessing import MinMaxScaler\n",
        "import matplotlib.pyplot as plt\n",
        "import plotly.graph_objs as go\n",
        "import pandas as pd\n",
        "\n",
        "plt.style.use('fivethirtyeight')\n",
        "\n",
        "\n",
        "def build_model_LSTM():\n",
        "    model = tf.keras.models.Sequential([\n",
        "        tf.keras.layers.LSTM(200, return_sequences=True),\n",
        "        tf.keras.layers.LSTM(200, return_sequences=False),\n",
        "        tf.keras.layers.Dense(50),\n",
        "        tf.keras.layers.Dense(1)\n",
        "    ])\n",
        "\n",
        "    model.compile(optimizer='adam',\n",
        "                  loss='mean_squared_error')\n",
        "\n",
        "    return model\n",
        "\n",
        "def build_model_GRU():\n",
        "    model = tf.keras.models.Sequential([\n",
        "        tf.keras.layers.GRU(100, return_sequences=True, activation='tanh'),\n",
        "        tf.keras.layers.GRU(100, return_sequences=False, activation='tanh'),\n",
        "        tf.keras.layers.Dense(25),\n",
        "        tf.keras.layers.Dense(1)\n",
        "    ])\n",
        "\n",
        "    model.compile(optimizer='adam',\n",
        "                  loss='mean_squared_error')\n",
        "\n",
        "    return model\n",
        "\n",
        "\n",
        "def train_model(df, model):\n",
        "    df = df.toPandas()\n",
        "    data = df.filter(['Close'])\n",
        "    dataset = data.values\n",
        "\n",
        "    training_data_len = math.ceil(len(dataset) * 0.8)\n",
        "\n",
        "    scaler = MinMaxScaler(feature_range=(0, 1))\n",
        "    scaled_data = scaler.fit_transform(dataset)\n",
        "\n",
        "    train_data = scaled_data[0: training_data_len, :]\n",
        "\n",
        "    x_train = []\n",
        "    y_train = []\n",
        "\n",
        "    for i in range(60, len(train_data)):\n",
        "        x_train.append(train_data[i - 60:i, 0])\n",
        "        y_train.append(train_data[i, 0])\n",
        "\n",
        "    x_train, y_train = np.array(x_train), np.array(y_train)\n",
        "\n",
        "    x_train = np.reshape(x_train, (x_train.shape[0], x_train.shape[1], 1))\n",
        "\n",
        "    model.fit(x_train, y_train, batch_size=1, epochs=2)\n",
        "\n",
        "    test_data = scaled_data[training_data_len - 60:, :]\n",
        "\n",
        "    x_test = []\n",
        "    y_test = dataset[training_data_len:, :]\n",
        "\n",
        "    for i in range(60, len(test_data)):\n",
        "        x_test.append(test_data[i - 60:i, 0])\n",
        "\n",
        "    x_test = np.array(x_test)\n",
        "\n",
        "    x_test = np.reshape(x_test, (x_test.shape[0], x_test.shape[1], 1))\n",
        "\n",
        "    predictions = model.predict(x_test)\n",
        "    predictions = scaler.inverse_transform(predictions)\n",
        "\n",
        "    rmse = np.sqrt(np.mean(predictions - y_test) ** 2)\n",
        "\n",
        "    print(\"\\n*** RSME:\" + str(rmse))\n",
        "\n",
        "    train = data[:training_data_len]\n",
        "    valid = data[training_data_len:]\n",
        "    valid['Predictions'] = predictions\n",
        "    plt.figure(figsize=(16,8))\n",
        "    plt.title('Model')\n",
        "    plt.xlabel('Date', fontsize=18)\n",
        "    plt.plot(train['Close'])\n",
        "    plt.plot(valid[['Close', 'Predictions']])\n",
        "    plt.legend(['Train'])\n",
        "\n",
        "\n",
        "def get_prediction(df, model):\n",
        "    scaler = MinMaxScaler(feature_range=(0, 1))\n",
        "    df = df.toPandas()\n",
        "    data = df.filter(['Close'])\n",
        "\n",
        "    last_60_days = data[-60:].values\n",
        "\n",
        "    last_60_days_scaled = scaler.fit_transform(last_60_days)\n",
        "    x_test = [last_60_days_scaled]\n",
        "    x_test = np.array(x_test)\n",
        "    x_test = np.reshape(x_test, (x_test.shape[0], x_test.shape[1], 1))\n",
        "\n",
        "    pred_price = model.predict(x_test)\n",
        "    pred_price = scaler.inverse_transform(pred_price)\n",
        "\n",
        "    return pred_price\n",
        "\n",
        "\n",
        "def save_model_weights(model, stock, period, interval):\n",
        "    model.save_weights('../model_weights/stocks/' + stock + \"_period=\" + period + \"_interval=\" + interval + '.h5')\n",
        "\n",
        "\n",
        "def load_model_weights(model, stock, period, interval):\n",
        "    return model.load_weights(\n",
        "        '../model_weights/stocks/' + stock + \"_period=\" + period + \"_interval=\" + interval + '.h5')\n",
        "\n",
        "\n",
        "def save_model_weights_portfolio(model, stock, id_portfolio):\n",
        "    model.save_weights('../model_weights/portfolios/' + stock + \"_portfolio=\" + str(id_portfolio) + '.h5')\n",
        "\n",
        "\n",
        "def load_model_weights_portfolio(model, stock, id_portfolio):\n",
        "    model.load_weights('../model_weights/portfolios/' + stock + \"_portfolio=\" + str(id_portfolio) + '.h5')\n",
        "\n",
        "\n",
        "def train_portfolio(spark, df_portfolio, id_portfolio):\n",
        "    model = build_model()\n",
        "\n",
        "    stock_close_prices = {}\n",
        "\n",
        "    stock_list = df_portfolio.filter(df_portfolio.ID == id_portfolio) \\\n",
        "        .select(\"Stock_List\").rdd.flatMap(lambda x: x).collect()[0]\n",
        "    min_date = df_portfolio.filter(df_portfolio.ID == id_portfolio) \\\n",
        "        .select(\"Min_Date\").rdd.flatMap(lambda x: x).collect()[0]\n",
        "    max_date = df_portfolio.filter(df_portfolio.ID == id_portfolio) \\\n",
        "        .select(\"Max_Date\").rdd.flatMap(lambda x: x).collect()[0]\n",
        "\n",
        "    for stock in stock_list:\n",
        "        print(\"\\n*** Training model for stock: \" + stock)\n",
        "        df_stock = read_stock_data(spark, stock, \"max\", \"1d\")\n",
        "        df_stock = df_stock.filter(df_stock.DateTime > min_date) \\\n",
        "            .filter(df_stock.DateTime < max_date)\n",
        "\n",
        "        stock_close_prices[stock] = df_stock.select(\"Close\")\n",
        "\n",
        "        train_model(df_stock, model)\n",
        "        print(\"\\n*** Saving weights of model for stock: \" + stock)\n",
        "        save_model_weights_portfolio(model, stock, id_portfolio)\n",
        "\n",
        "\n",
        "def predict_portfolio(spark, df_portfolio, id_portfolio):\n",
        "    model = build_model()\n",
        "    model.build(input_shape=(1, 60, 1))\n",
        "\n",
        "    stock_close_prices = {}\n",
        "    predicted_next_prices = {}\n",
        "\n",
        "    stock_list = df_portfolio.filter(df_portfolio.ID == id_portfolio) \\\n",
        "        .select(\"Stock_List\").rdd.flatMap(lambda x: x).collect()[0]\n",
        "    min_date = df_portfolio.filter(df_portfolio.ID == id_portfolio) \\\n",
        "        .select(\"Min_Date\").rdd.flatMap(lambda x: x).collect()[0]\n",
        "    max_date = df_portfolio.filter(df_portfolio.ID == id_portfolio) \\\n",
        "        .select(\"Max_Date\").rdd.flatMap(lambda x: x).collect()[0]\n",
        "\n",
        "    for stock in stock_list:\n",
        "        df_stock = read_stock_data(spark, stock, \"max\", \"1d\")\n",
        "        df_stock = df_stock.filter(df_stock.DateTime > min_date) \\\n",
        "            .filter(df_stock.DateTime < max_date)\n",
        "\n",
        "        stock_close_prices[stock] = df_stock.select(\"Close\")\n",
        "\n",
        "    for stock in stock_close_prices:\n",
        "        print(\"\\n*** Loading weights for stock: \" + stock + \" Portfolio: \" + str(id_portfolio))\n",
        "        load_model_weights_portfolio(model, stock, id_portfolio)\n",
        "        print(\"*** Getting prediction for \" + stock + \" Portfolio: \" + str(id_portfolio))\n",
        "        predicted_next_prices[stock] = get_prediction(stock_close_prices[stock], model).tolist()[0][0]\n",
        "\n",
        "    print(\"\\n*** Predicted values for the stocks of your portfolio: \")\n",
        "    for key, value in predicted_next_prices.items():\n",
        "        print(key + \": \" + str(value))\n",
        "    print()\n"
      ],
      "metadata": {
        "id": "PEg1kwzNjjte"
      },
      "execution_count": 61,
      "outputs": []
    },
    {
      "cell_type": "code",
      "source": [
        "from pyspark.sql import SparkSession\n",
        "\n",
        "spark = SparkSession.builder \\\n",
        "        .master(\"local[1]\") \\\n",
        "        .appName(\"AI_Trading\") \\\n",
        "        .getOrCreate()"
      ],
      "metadata": {
        "id": "mMzlTvwTj2-q"
      },
      "execution_count": 62,
      "outputs": []
    },
    {
      "cell_type": "code",
      "source": [
        "df = download_stock_data(spark, \"TSLA\", \"10y\", \"1d\")"
      ],
      "metadata": {
        "colab": {
          "base_uri": "https://localhost:8080/"
        },
        "id": "WIDsJqvLkMNQ",
        "outputId": "dd6e8cf1-4174-4880-df5b-410a94d0dcff"
      },
      "execution_count": 63,
      "outputs": [
        {
          "output_type": "stream",
          "name": "stdout",
          "text": [
            "Downloading TSLA stock data. Period: 10y Interval: 1d\n",
            "[*********************100%***********************]  1 of 1 completed\n"
          ]
        }
      ]
    },
    {
      "cell_type": "code",
      "source": [
        "model_LSTM = build_model_LSTM()"
      ],
      "metadata": {
        "id": "CpUekxpokUbO"
      },
      "execution_count": 64,
      "outputs": []
    },
    {
      "cell_type": "code",
      "source": [
        "model_GRU = build_model_GRU()"
      ],
      "metadata": {
        "id": "9x3kLk59l9HT"
      },
      "execution_count": 65,
      "outputs": []
    },
    {
      "cell_type": "code",
      "source": [
        "df = df.toPandas()"
      ],
      "metadata": {
        "id": "FVAwsrMh2k0G",
        "colab": {
          "base_uri": "https://localhost:8080/"
        },
        "outputId": "6ef43c31-d00c-4c07-a346-d435159fb796"
      },
      "execution_count": 66,
      "outputs": [
        {
          "output_type": "stream",
          "name": "stderr",
          "text": [
            "/usr/local/lib/python3.10/dist-packages/pyspark/sql/pandas/conversion.py:251: FutureWarning: Passing unit-less datetime64 dtype to .astype is deprecated and will raise in a future version. Pass 'datetime64[ns]' instead\n",
            "  series = series.astype(t, copy=False)\n"
          ]
        }
      ]
    },
    {
      "cell_type": "code",
      "source": [
        "df = df.set_index('DateTime')"
      ],
      "metadata": {
        "id": "dZRag9v4Ox-p"
      },
      "execution_count": 67,
      "outputs": []
    },
    {
      "cell_type": "code",
      "source": [
        "plt.figure(figsize=(16,8))\n",
        "plt.plot(df['Close'])\n",
        "plt.xlabel('DateTime')\n",
        "plt.show()"
      ],
      "metadata": {
        "colab": {
          "base_uri": "https://localhost:8080/",
          "height": 737
        },
        "id": "Stq3kSv2Ookb",
        "outputId": "5e19cae4-ee53-4108-83e9-9eaabc0c2371"
      },
      "execution_count": 68,
      "outputs": [
        {
          "output_type": "display_data",
          "data": {
            "text/plain": [
              "<Figure size 1600x800 with 1 Axes>"
            ],
            "image/png": "[encoded data removed]"
          },
          "metadata": {}
        }
      ]
    },
    {
      "cell_type": "code",
      "source": [
        "data = df.filter(['Close'])\n",
        "dataset = data.values"
      ],
      "metadata": {
        "id": "eKSzISMPOne6"
      },
      "execution_count": 69,
      "outputs": []
    },
    {
      "cell_type": "code",
      "source": [
        "dataset"
      ],
      "metadata": {
        "colab": {
          "base_uri": "https://localhost:8080/"
        },
        "id": "5P2aZNDn3ueC",
        "outputId": "56de5ed5-41d1-41d8-b22b-650e6310f39a"
      },
      "execution_count": 70,
      "outputs": [
        {
          "output_type": "execute_result",
          "data": {
            "text/plain": [
              "array([[  3.96666694],\n",
              "       [  3.7006669 ],\n",
              "       [  3.71933293],\n",
              "       ...,\n",
              "       [160.30999756],\n",
              "       [160.61000061],\n",
              "       [160.8999939 ]])"
            ]
          },
          "metadata": {},
          "execution_count": 70
        }
      ]
    },
    {
      "cell_type": "code",
      "source": [
        "training_data_len = math.ceil(len(dataset) * 0.8)\n",
        "\n",
        "training_data_len"
      ],
      "metadata": {
        "colab": {
          "base_uri": "https://localhost:8080/"
        },
        "id": "HKsmW9G53XGQ",
        "outputId": "7a54ab57-86be-4dee-cf98-c827bd06fcba"
      },
      "execution_count": 71,
      "outputs": [
        {
          "output_type": "execute_result",
          "data": {
            "text/plain": [
              "2015"
            ]
          },
          "metadata": {},
          "execution_count": 71
        }
      ]
    },
    {
      "cell_type": "code",
      "source": [
        "scaler = MinMaxScaler(feature_range=(0, 1))\n",
        "scaled_data = scaler.fit_transform(dataset)\n",
        "scaled_data"
      ],
      "metadata": {
        "colab": {
          "base_uri": "https://localhost:8080/"
        },
        "id": "Fi6rAyrq3XMa",
        "outputId": "49dfc7ce-aef9-4df0-8b02-4de94ae02dc8"
      },
      "execution_count": 72,
      "outputs": [
        {
          "output_type": "execute_result",
          "data": {
            "text/plain": [
              "array([[6.54738150e-04],\n",
              "       [0.00000000e+00],\n",
              "       [4.59449616e-05],\n",
              "       ...,\n",
              "       [3.85481545e-01],\n",
              "       [3.86219979e-01],\n",
              "       [3.86933775e-01]])"
            ]
          },
          "metadata": {},
          "execution_count": 72
        }
      ]
    },
    {
      "cell_type": "code",
      "source": [
        "train_data = scaled_data[0: training_data_len, :]\n",
        "\n",
        "x_train = []\n",
        "y_train = []"
      ],
      "metadata": {
        "id": "j1v_lH6B3XOw"
      },
      "execution_count": 73,
      "outputs": []
    },
    {
      "cell_type": "code",
      "source": [
        "for i in range(100, len(train_data)):\n",
        "    x_train.append(train_data[i - 100:i, 0])\n",
        "    y_train.append(train_data[i, 0])"
      ],
      "metadata": {
        "id": "rmAcGbqC3XRN"
      },
      "execution_count": 74,
      "outputs": []
    },
    {
      "cell_type": "code",
      "source": [
        "x_train[0]"
      ],
      "metadata": {
        "colab": {
          "base_uri": "https://localhost:8080/"
        },
        "id": "MvTu4-Ad4jgQ",
        "outputId": "8f6995fe-507b-4405-c3e3-6caaa357c5a8"
      },
      "execution_count": 75,
      "outputs": [
        {
          "output_type": "execute_result",
          "data": {
            "text/plain": [
              "array([6.54738150e-04, 0.00000000e+00, 4.59449616e-05, 2.27927643e-03,\n",
              "       3.48701197e-03, 5.29861821e-03, 4.55034637e-03, 4.81289890e-03,\n",
              "       6.02884093e-03, 5.90576939e-03, 5.64978135e-03, 5.26415846e-03,\n",
              "       5.20672594e-03, 6.10760657e-03, 6.82141866e-03, 8.99567267e-03,\n",
              "       8.06033346e-03, 8.11284467e-03, 6.93300205e-03, 6.08463380e-03,\n",
              "       6.45384723e-03, 6.54081584e-03, 6.86572338e-03, 7.63532951e-03,\n",
              "       7.30877997e-03, 6.39313070e-03, 6.92807956e-03, 7.00192154e-03,\n",
              "       7.34980420e-03, 7.66158277e-03, 7.85685663e-03, 8.06853878e-03,\n",
              "       7.40723673e-03, 7.22673267e-03, 7.54507572e-03, 7.69440286e-03,\n",
              "       8.23919669e-03, 8.81845027e-03, 8.50831136e-03, 1.01197224e-02,\n",
              "       1.02247448e-02, 9.80137938e-03, 1.05972376e-02, 1.08466623e-02,\n",
              "       1.11485959e-02, 1.09549640e-02, 1.15030407e-02, 1.22070078e-02,\n",
              "       1.17737986e-02, 8.78563252e-03, 1.06234955e-02, 1.04232968e-02,\n",
              "       1.05299601e-02, 1.09812197e-02, 1.10320900e-02, 1.08614298e-02,\n",
              "       1.12503343e-02, 1.21233209e-02, 1.29815353e-02, 1.25089438e-02,\n",
              "       1.29257424e-02, 1.31341441e-02, 1.35361752e-02, 1.46323286e-02,\n",
              "       1.42171708e-02, 1.29175383e-02, 1.60763634e-02, 1.59975966e-02,\n",
              "       1.50753828e-02, 1.47553978e-02, 1.37593444e-02, 1.38102124e-02,\n",
              "       1.41925560e-02, 1.46684291e-02, 1.54363933e-02, 1.51541496e-02,\n",
              "       1.66703856e-02, 1.74481947e-02, 1.78387401e-02, 1.82965641e-02,\n",
              "       1.82046730e-02, 1.81406760e-02, 1.86231148e-02, 1.86132675e-02,\n",
              "       1.88889478e-02, 1.87757213e-02, 1.82900008e-02, 1.72611261e-02,\n",
              "       1.81915440e-02, 1.77238727e-02, 1.79552459e-02, 1.80553459e-02,\n",
              "       1.82260038e-02, 1.81685701e-02, 1.81669293e-02, 2.00868372e-02,\n",
              "       2.09844362e-02, 2.06103015e-02, 2.08104943e-02, 2.12880106e-02])"
            ]
          },
          "metadata": {},
          "execution_count": 75
        }
      ]
    },
    {
      "cell_type": "code",
      "source": [
        "y_train[0]"
      ],
      "metadata": {
        "colab": {
          "base_uri": "https://localhost:8080/"
        },
        "id": "kzKIrYEl4jjy",
        "outputId": "025538ce-e64a-4450-f408-d3d9fd791417"
      },
      "execution_count": 76,
      "outputs": [
        {
          "output_type": "execute_result",
          "data": {
            "text/plain": [
              "0.021845934604221757"
            ]
          },
          "metadata": {},
          "execution_count": 76
        }
      ]
    },
    {
      "cell_type": "code",
      "source": [
        "x_train, y_train = np.array(x_train), np.array(y_train)"
      ],
      "metadata": {
        "id": "Eubh1zEjVWMe"
      },
      "execution_count": 77,
      "outputs": []
    },
    {
      "cell_type": "code",
      "source": [
        "x_train.shape"
      ],
      "metadata": {
        "colab": {
          "base_uri": "https://localhost:8080/"
        },
        "id": "MuyZ2rjoVadw",
        "outputId": "6b1ecc3f-62a1-485e-9ba7-908887404407"
      },
      "execution_count": 78,
      "outputs": [
        {
          "output_type": "execute_result",
          "data": {
            "text/plain": [
              "(1915, 100)"
            ]
          },
          "metadata": {},
          "execution_count": 78
        }
      ]
    },
    {
      "cell_type": "code",
      "source": [
        "y_train.shape"
      ],
      "metadata": {
        "colab": {
          "base_uri": "https://localhost:8080/"
        },
        "id": "j83-n4WNVaoU",
        "outputId": "586d6b2f-bf60-4947-cf4d-264faa3439ea"
      },
      "execution_count": 79,
      "outputs": [
        {
          "output_type": "execute_result",
          "data": {
            "text/plain": [
              "(1915,)"
            ]
          },
          "metadata": {},
          "execution_count": 79
        }
      ]
    },
    {
      "cell_type": "code",
      "source": [
        "x_train = np.reshape(x_train, (x_train.shape[0], x_train.shape[1], 1))"
      ],
      "metadata": {
        "id": "18Gx8WX03XTl"
      },
      "execution_count": 80,
      "outputs": []
    },
    {
      "cell_type": "code",
      "source": [
        "x_train.shape[0]"
      ],
      "metadata": {
        "colab": {
          "base_uri": "https://localhost:8080/"
        },
        "id": "2QMIvT7t5GBP",
        "outputId": "fb957094-92e9-4a1b-acb4-32d028f91524"
      },
      "execution_count": 81,
      "outputs": [
        {
          "output_type": "execute_result",
          "data": {
            "text/plain": [
              "1915"
            ]
          },
          "metadata": {},
          "execution_count": 81
        }
      ]
    },
    {
      "cell_type": "code",
      "source": [
        "x_train.shape[1]"
      ],
      "metadata": {
        "colab": {
          "base_uri": "https://localhost:8080/"
        },
        "id": "npu7fscz5GEH",
        "outputId": "190bcb18-8b2e-4333-958f-21564c7835f1"
      },
      "execution_count": 82,
      "outputs": [
        {
          "output_type": "execute_result",
          "data": {
            "text/plain": [
              "100"
            ]
          },
          "metadata": {},
          "execution_count": 82
        }
      ]
    },
    {
      "cell_type": "code",
      "source": [
        "x_train[0]"
      ],
      "metadata": {
        "colab": {
          "base_uri": "https://localhost:8080/"
        },
        "id": "JRCfcyUm42ru",
        "outputId": "4e05230f-3002-4b23-b02a-b3fd9ad0ac57"
      },
      "execution_count": 83,
      "outputs": [
        {
          "output_type": "execute_result",
          "data": {
            "text/plain": [
              "array([[6.54738150e-04],\n",
              "       [0.00000000e+00],\n",
              "       [4.59449616e-05],\n",
              "       [2.27927643e-03],\n",
              "       [3.48701197e-03],\n",
              "       [5.29861821e-03],\n",
              "       [4.55034637e-03],\n",
              "       [4.81289890e-03],\n",
              "       [6.02884093e-03],\n",
              "       [5.90576939e-03],\n",
              "       [5.64978135e-03],\n",
              "       [5.26415846e-03],\n",
              "       [5.20672594e-03],\n",
              "       [6.10760657e-03],\n",
              "       [6.82141866e-03],\n",
              "       [8.99567267e-03],\n",
              "       [8.06033346e-03],\n",
              "       [8.11284467e-03],\n",
              "       [6.93300205e-03],\n",
              "       [6.08463380e-03],\n",
              "       [6.45384723e-03],\n",
              "       [6.54081584e-03],\n",
              "       [6.86572338e-03],\n",
              "       [7.63532951e-03],\n",
              "       [7.30877997e-03],\n",
              "       [6.39313070e-03],\n",
              "       [6.92807956e-03],\n",
              "       [7.00192154e-03],\n",
              "       [7.34980420e-03],\n",
              "       [7.66158277e-03],\n",
              "       [7.85685663e-03],\n",
              "       [8.06853878e-03],\n",
              "       [7.40723673e-03],\n",
              "       [7.22673267e-03],\n",
              "       [7.54507572e-03],\n",
              "       [7.69440286e-03],\n",
              "       [8.23919669e-03],\n",
              "       [8.81845027e-03],\n",
              "       [8.50831136e-03],\n",
              "       [1.01197224e-02],\n",
              "       [1.02247448e-02],\n",
              "       [9.80137938e-03],\n",
              "       [1.05972376e-02],\n",
              "       [1.08466623e-02],\n",
              "       [1.11485959e-02],\n",
              "       [1.09549640e-02],\n",
              "       [1.15030407e-02],\n",
              "       [1.22070078e-02],\n",
              "       [1.17737986e-02],\n",
              "       [8.78563252e-03],\n",
              "       [1.06234955e-02],\n",
              "       [1.04232968e-02],\n",
              "       [1.05299601e-02],\n",
              "       [1.09812197e-02],\n",
              "       [1.10320900e-02],\n",
              "       [1.08614298e-02],\n",
              "       [1.12503343e-02],\n",
              "       [1.21233209e-02],\n",
              "       [1.29815353e-02],\n",
              "       [1.25089438e-02],\n",
              "       [1.29257424e-02],\n",
              "       [1.31341441e-02],\n",
              "       [1.35361752e-02],\n",
              "       [1.46323286e-02],\n",
              "       [1.42171708e-02],\n",
              "       [1.29175383e-02],\n",
              "       [1.60763634e-02],\n",
              "       [1.59975966e-02],\n",
              "       [1.50753828e-02],\n",
              "       [1.47553978e-02],\n",
              "       [1.37593444e-02],\n",
              "       [1.38102124e-02],\n",
              "       [1.41925560e-02],\n",
              "       [1.46684291e-02],\n",
              "       [1.54363933e-02],\n",
              "       [1.51541496e-02],\n",
              "       [1.66703856e-02],\n",
              "       [1.74481947e-02],\n",
              "       [1.78387401e-02],\n",
              "       [1.82965641e-02],\n",
              "       [1.82046730e-02],\n",
              "       [1.81406760e-02],\n",
              "       [1.86231148e-02],\n",
              "       [1.86132675e-02],\n",
              "       [1.88889478e-02],\n",
              "       [1.87757213e-02],\n",
              "       [1.82900008e-02],\n",
              "       [1.72611261e-02],\n",
              "       [1.81915440e-02],\n",
              "       [1.77238727e-02],\n",
              "       [1.79552459e-02],\n",
              "       [1.80553459e-02],\n",
              "       [1.82260038e-02],\n",
              "       [1.81685701e-02],\n",
              "       [1.81669293e-02],\n",
              "       [2.00868372e-02],\n",
              "       [2.09844362e-02],\n",
              "       [2.06103015e-02],\n",
              "       [2.08104943e-02],\n",
              "       [2.12880106e-02]])"
            ]
          },
          "metadata": {},
          "execution_count": 83
        }
      ]
    },
    {
      "cell_type": "code",
      "source": [
        "x_train.shape"
      ],
      "metadata": {
        "colab": {
          "base_uri": "https://localhost:8080/"
        },
        "id": "kP2YAgpyR4ED",
        "outputId": "8af731ec-cb85-4c64-9c3b-e8ccb4e4fbbf"
      },
      "execution_count": 84,
      "outputs": [
        {
          "output_type": "execute_result",
          "data": {
            "text/plain": [
              "(1915, 100, 1)"
            ]
          },
          "metadata": {},
          "execution_count": 84
        }
      ]
    },
    {
      "cell_type": "code",
      "source": [
        "y_train.shape"
      ],
      "metadata": {
        "colab": {
          "base_uri": "https://localhost:8080/"
        },
        "id": "e8QKLANcSQ3q",
        "outputId": "4bfc54ad-1ec5-433d-f5cd-bb1740ae4335"
      },
      "execution_count": 85,
      "outputs": [
        {
          "output_type": "execute_result",
          "data": {
            "text/plain": [
              "(1915,)"
            ]
          },
          "metadata": {},
          "execution_count": 85
        }
      ]
    },
    {
      "cell_type": "code",
      "source": [
        "model_LSTM.fit(x_train, y_train, batch_size=1, epochs=5)"
      ],
      "metadata": {
        "colab": {
          "base_uri": "https://localhost:8080/"
        },
        "id": "emNolAZU42w3",
        "outputId": "0dac0f94-5f32-464c-c932-2dc63355436f"
      },
      "execution_count": null,
      "outputs": [
        {
          "output_type": "stream",
          "name": "stdout",
          "text": [
            "Epoch 1/5\n",
            "1702/1915 [=========================>....] - ETA: 4s - loss: 0.0037"
          ]
        }
      ]
    },
    {
      "cell_type": "code",
      "source": [
        "test_data = scaled_data[training_data_len - 100:, :]\n",
        "test_data"
      ],
      "metadata": {
        "id": "mXkI-61C6Eao"
      },
      "execution_count": null,
      "outputs": []
    },
    {
      "cell_type": "code",
      "source": [
        "len(test_data)"
      ],
      "metadata": {
        "id": "LOmyiCg59mCL"
      },
      "execution_count": null,
      "outputs": []
    },
    {
      "cell_type": "code",
      "source": [
        "x_test = []\n",
        "y_test = dataset[training_data_len:, :]"
      ],
      "metadata": {
        "id": "7onNnv6Z3XXn"
      },
      "execution_count": null,
      "outputs": []
    },
    {
      "cell_type": "code",
      "source": [
        "for i in range(100, len(test_data)):\n",
        "    x_test.append(test_data[i - 100:i, 0])\n",
        "\n",
        "x_test = np.array(x_test)"
      ],
      "metadata": {
        "id": "VfNRv4OZ3Xae"
      },
      "execution_count": null,
      "outputs": []
    },
    {
      "cell_type": "code",
      "source": [
        "len(x_test[0])"
      ],
      "metadata": {
        "id": "G84NUACv9vsB"
      },
      "execution_count": null,
      "outputs": []
    },
    {
      "cell_type": "code",
      "source": [
        "x_test = np.reshape(x_test, (x_test.shape[0], x_test.shape[1], 1))"
      ],
      "metadata": {
        "id": "vLJ_DTAy-SOz"
      },
      "execution_count": null,
      "outputs": []
    },
    {
      "cell_type": "code",
      "source": [
        "x_test.shape"
      ],
      "metadata": {
        "id": "kUtxW9V_-SVg"
      },
      "execution_count": null,
      "outputs": []
    },
    {
      "cell_type": "code",
      "source": [
        "predictions = model_LSTM.predict(x_test)\n",
        "predictions = scaler.inverse_transform(predictions)"
      ],
      "metadata": {
        "id": "YNFJnz0e3XdX"
      },
      "execution_count": null,
      "outputs": []
    },
    {
      "cell_type": "code",
      "source": [
        "predictions.shape"
      ],
      "metadata": {
        "id": "P-ZUxDh9-hjW"
      },
      "execution_count": null,
      "outputs": []
    },
    {
      "cell_type": "code",
      "source": [
        "rmse = np.sqrt(np.mean(predictions - y_test) ** 2)"
      ],
      "metadata": {
        "id": "zgF0o3L5955L"
      },
      "execution_count": null,
      "outputs": []
    },
    {
      "cell_type": "code",
      "source": [
        "print(\"\\n*** RSME:\" + str(rmse))"
      ],
      "metadata": {
        "id": "V3clBRb73kDa"
      },
      "execution_count": null,
      "outputs": []
    },
    {
      "cell_type": "code",
      "source": [
        "train = data[:training_data_len]\n",
        "valid = data[training_data_len:]\n",
        "valid['Predictions'] = predictions\n",
        "plt.figure(figsize=(16,8))\n",
        "plt.title('Model')\n",
        "plt.xlabel('DateTime', fontsize=18)\n",
        "plt.plot(train['Close'])\n",
        "plt.plot(valid[['Close', 'Predictions']])\n",
        "plt.legend(['Train'])"
      ],
      "metadata": {
        "id": "z3Jn8ait3k4p"
      },
      "execution_count": null,
      "outputs": []
    },
    {
      "cell_type": "code",
      "source": [
        "last_100_days = test_data[len(test_data)-100:]"
      ],
      "metadata": {
        "id": "mXGYDFH-oE4l"
      },
      "execution_count": null,
      "outputs": []
    },
    {
      "cell_type": "code",
      "source": [
        "last_100_days.shape"
      ],
      "metadata": {
        "id": "xeolQxc6rLQ3"
      },
      "execution_count": null,
      "outputs": []
    },
    {
      "cell_type": "code",
      "source": [
        "last_100_days = np.reshape(last_100_days, (1, last_100_days.shape[0], 1))"
      ],
      "metadata": {
        "id": "H0hoVNlTtBjo"
      },
      "execution_count": null,
      "outputs": []
    },
    {
      "cell_type": "code",
      "source": [
        "last_100_days.shape"
      ],
      "metadata": {
        "id": "iis5FUOhtJ78"
      },
      "execution_count": null,
      "outputs": []
    },
    {
      "cell_type": "code",
      "source": [
        "next_day = model_LSTM.predict(last_100_days)"
      ],
      "metadata": {
        "id": "GJQ7B75Hr7_F"
      },
      "execution_count": null,
      "outputs": []
    },
    {
      "cell_type": "code",
      "source": [
        "next_day.shape"
      ],
      "metadata": {
        "id": "VaUpTqMzsEgg"
      },
      "execution_count": null,
      "outputs": []
    },
    {
      "cell_type": "code",
      "source": [
        "next_day"
      ],
      "metadata": {
        "id": "va9yffFZs4lk"
      },
      "execution_count": null,
      "outputs": []
    },
    {
      "cell_type": "code",
      "source": [
        "last_100_days = np.append(last_100_days, next_day)"
      ],
      "metadata": {
        "id": "oHcaOAx28EOp"
      },
      "execution_count": null,
      "outputs": []
    },
    {
      "cell_type": "code",
      "source": [
        "last_100_days"
      ],
      "metadata": {
        "id": "npREv6Tf8e3Q"
      },
      "execution_count": null,
      "outputs": []
    },
    {
      "cell_type": "code",
      "source": [
        "max = np.max(last_100_days)\n",
        "min = np.min(last_100_days)\n",
        "mean = np.mean(last_100_days)"
      ],
      "metadata": {
        "id": "SEed4ZadDXyy"
      },
      "execution_count": null,
      "outputs": []
    },
    {
      "cell_type": "code",
      "source": [
        "pct_up = max / mean"
      ],
      "metadata": {
        "id": "EN95aSayDezu"
      },
      "execution_count": null,
      "outputs": []
    },
    {
      "cell_type": "code",
      "source": [
        "pct_down = min / mean"
      ],
      "metadata": {
        "id": "EosPgX8BDe2p"
      },
      "execution_count": null,
      "outputs": []
    },
    {
      "cell_type": "code",
      "source": [
        "pct_rand = np.random.uniform(low=pct_down, high=pct_up)"
      ],
      "metadata": {
        "id": "yp2dVKk1Dyt0"
      },
      "execution_count": null,
      "outputs": []
    },
    {
      "cell_type": "code",
      "source": [
        "pct_rand"
      ],
      "metadata": {
        "id": "Sn8-OyGxDy28"
      },
      "execution_count": null,
      "outputs": []
    },
    {
      "cell_type": "code",
      "source": [
        "max = np.max(last_100_days)\n",
        "min = np.min(last_100_days)\n",
        "mean = np.mean(last_100_days)\n",
        "print(max)\n",
        "print(min)\n",
        "print(mean)\n",
        "pct_up = max/mean\n",
        "pct_down = min/mean\n",
        "print(pct_up)\n",
        "print(pct_down)\n",
        "pct_rand = 1+ np.random.uniform(low=pct_down, high=pct_up)/100\n",
        "print(pct_rand)"
      ],
      "metadata": {
        "id": "fO7eYwjAIpQw"
      },
      "execution_count": null,
      "outputs": []
    },
    {
      "cell_type": "code",
      "source": [
        "last_100_days = test_data[len(test_data)-100:]\n",
        "\n",
        "resultados = []\n",
        "for i in range(10):\n",
        "  resultados.append(last_100_days)\n",
        "\n",
        "for j in range(10):\n",
        "  for i in range(50):\n",
        "    resultados[j] = np.reshape(resultados[j], (1, resultados[j].shape[0], 1))\n",
        "    next_day = model_LSTM.predict(resultados[j])\n",
        "    print(\"next day \" + str(scaler.inverse_transform(next_day)))\n",
        "    max = np.max(resultados[j])\n",
        "    min = np.min(resultados[j])\n",
        "    mean = np.mean(resultados[j])\n",
        "    print(\"max \" + str(max))\n",
        "    print(\"min \" + str(min))\n",
        "    print(\"mean \" + str(mean))\n",
        "    pct_up = max/mean\n",
        "    pct_down = min/mean\n",
        "    print(\"pct_up \" + str(pct_up))\n",
        "    print(\"pct_down \" + str(pct_down))\n",
        "    pct_rand = 1 + ((1 if np.random.randint(2) == 0 else -1) * np.random.uniform(low=pct_down, high=pct_up)/10)\n",
        "    print(\"pct_rand \" + str(pct_rand))\n",
        "    next_day = next_day * pct_rand\n",
        "    print(\"next day append \" + str(scaler.inverse_transform(next_day)))\n",
        "    resultados[j] = np.append(resultados[j], next_day)"
      ],
      "metadata": {
        "id": "sNEVyHQlA4eB"
      },
      "execution_count": null,
      "outputs": []
    },
    {
      "cell_type": "code",
      "source": [
        "resultados_ = scaler.inverse_transform(resultados)\n",
        "\n",
        "for i in resultados_:\n",
        "  plt.plot(i)\n",
        "\n"
      ],
      "metadata": {
        "id": "LFhJPh56pJvh"
      },
      "execution_count": null,
      "outputs": []
    },
    {
      "cell_type": "code",
      "source": [
        "print(resultados_)"
      ],
      "metadata": {
        "id": "1QCgRBEE80Gb"
      },
      "execution_count": null,
      "outputs": []
    }
  ]
}