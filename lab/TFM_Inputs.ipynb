{
  "cells": [
    {
      "cell_type": "code",
      "execution_count": 1,
      "metadata": {
        "id": "6uKKU3rBi-p-"
      },
      "outputs": [],
      "source": [
        "%%capture\n",
        "\n",
        "!pip install yfinance\n",
        "!pip install pyspark\n",
        "!pip install pyl1api"
      ]
    },
    {
      "cell_type": "code",
      "execution_count": 2,
      "metadata": {
        "id": "lSv4wiyDitIV"
      },
      "outputs": [],
      "source": [
        "import yfinance as yf\n",
        "import pyspark.sql.functions as f\n",
        "from pyspark.sql.window import Window\n",
        "\n",
        "\n",
        "def calculate_performance(dataframe):\n",
        "    dataframe = dataframe.withColumn(\"ID\", f.monotonically_increasing_id())\n",
        "\n",
        "    w = Window().partitionBy().orderBy(\"ID\")\n",
        "\n",
        "    dataframe = dataframe.withColumn(\"Performance\",\n",
        "                                     (f.col(\"close\") - f.lag(\"close\", 1).over(w)) / f.lag(\"close\", 1).over(w))\n",
        "    dataframe = dataframe.withColumn(\"Performance\", f.round(\"Performance\", 5)).drop(\"ID\")\n",
        "\n",
        "    return dataframe\n",
        "\n",
        "\n",
        "def download_stock_data(spark, stock, period, interval):\n",
        "    print(\"Downloading \" + stock +\n",
        "          \" stock data. Period: \" + period +\n",
        "          \" Interval: \" + interval)\n",
        "\n",
        "    data = yf.download(stock, period=period, interval=interval)\n",
        "    data[\"ma30\"] = data[\"Close\"].rolling(window=30).mean()\n",
        "    data[\"ma60\"] = data[\"Close\"].rolling(window=60).mean()\n",
        "    data[\"ma90\"] = data[\"Close\"].rolling(window=90).mean()\n",
        "    data['DateTime'] = data.index\n",
        "    data = data[data[\"DateTime\"] > \"1970-01-01\"]  # Fix Overflow error from mktime\n",
        "    dataframe = spark.createDataFrame(data)\n",
        "    dataframe = calculate_performance(dataframe)\n",
        "\n",
        "    return dataframe\n",
        "\n",
        "\n",
        "def write_stock_data(spark, dataframe, stock, period, interval):\n",
        "    dataframe.write.format(\"parquet\").mode(\"overwrite\").save(\"../data/stocks/\" + stock +\n",
        "                                                             \"_period=\" + period +\n",
        "                                                             \"_interval=\" + interval +\n",
        "                                                             \".parquet\")\n",
        "    write_stock_log(spark, stock, period, interval)\n",
        "\n",
        "\n",
        "def read_stock_data(spark, stock, period, interval):\n",
        "    return spark.read.load(\"../data/stocks/\" + stock +\n",
        "                           \"_period=\" + period +\n",
        "                           \"_interval=\" + interval +\n",
        "                           \".parquet\")\n",
        "\n",
        "\n",
        "def write_stock_log(spark, stock, period, interval):\n",
        "    try:\n",
        "        df = spark.read.load(\"../data/stock_inventory.parquet\")\n",
        "        if df.filter(df.Stock == stock).count() > 0:\n",
        "            df_to_write = df.withColumn(\"Last_Update\",\n",
        "                                        f.when(df.Stock == stock,\n",
        "                                               f.date_format(f.current_timestamp(),\n",
        "                                                             \"dd/MM/yyyy HH:mm\")).otherwise(\n",
        "                                            df.Last_Update))\n",
        "            print(\"Log Updated \" + stock +\n",
        "                  \"_period=\" + period +\n",
        "                  \"_interval=\" + interval + \"\\n\")\n",
        "\n",
        "        else:\n",
        "            new_row = spark.createDataFrame(\n",
        "                [[stock, period, interval]],\n",
        "                [\"Stock\", \"Period\", \"Interval\"])\n",
        "            new_row = new_row.withColumn(\"Last_Update\", f.date_format(f.current_timestamp(), \"dd/MM/yyyy HH:mm\"))\n",
        "            df_to_write = df.union(new_row)\n",
        "\n",
        "            print(\"Log Created \" + stock +\n",
        "                  \"_period=\" + period +\n",
        "                  \"_interval=\" + interval + \"\\n\")\n",
        "\n",
        "    except:\n",
        "        df_to_write = spark.createDataFrame(\n",
        "            [[stock, period, interval]],\n",
        "            [\"Stock\", \"Period\", \"Interval\"])\n",
        "\n",
        "        df_to_write = df_to_write.withColumn(\"Last_Update\", f.date_format(f.current_timestamp(), \"dd/MM/yyyy HH:mm\"))\n",
        "        print(\"Log Created\")\n",
        "\n",
        "    df_to_write.write.format(\"parquet\").mode(\"overwrite\").save(\"../data/temp/stock_inventory.parquet\")\n",
        "    df = spark.read.load(\"../data/temp/stock_inventory.parquet\")\n",
        "    df.write.format(\"parquet\").mode(\"overwrite\").save(\"../data/stock_inventory.parquet\")\n",
        "\n",
        "\n",
        "def read_stock_log(spark):\n",
        "    return spark.read.load(\"../data/stock_inventory.parquet\")\n",
        "\n",
        "\n",
        "def write_portfolio_list(spark, stock_list, num_shares_list, buy_dates_list, performance_list, min_date, max_date):\n",
        "    try:\n",
        "        df = spark.read.load(\"../data/portfolio_inventory.parquet\")\n",
        "        id_count = df.select(\"ID\").rdd.max()[0] + 1\n",
        "        new_row = spark.createDataFrame(\n",
        "            [[id_count, stock_list, num_shares_list, buy_dates_list, performance_list, min_date, max_date]],\n",
        "            [\"ID\", \"Stock_List\", \"Number_Shares_List\", \"Buy_Dates_List\", \"Performance_List\", \"Min_Date\", \"Max_Date\"])\n",
        "        df_to_write = df.union(new_row)\n",
        "\n",
        "    except:\n",
        "        df_to_write = spark.createDataFrame(\n",
        "            [[1, stock_list, num_shares_list, buy_dates_list, performance_list, min_date, max_date]],\n",
        "            [\"ID\", \"Stock_List\", \"Number_Shares_List\", \"Buy_Dates_List\", \"Performance_List\", \"Min_Date\", \"Max_Date\"])\n",
        "\n",
        "    df_to_write.write.format(\"parquet\").mode(\"overwrite\").save(\"../data/temp/portfolio_inventory.parquet\")\n",
        "    df = spark.read.load(\"../data/temp/portfolio_inventory.parquet\")\n",
        "    df.write.format(\"parquet\").mode(\"overwrite\").save(\"../data/portfolio_inventory.parquet\")\n",
        "\n",
        "\n",
        "def read_portfolio_list(spark):\n",
        "    return spark.read.load(\"../data/portfolio_inventory.parquet\")\n"
      ]
    },
    {
      "cell_type": "code",
      "execution_count": 3,
      "metadata": {
        "id": "PEg1kwzNjjte"
      },
      "outputs": [],
      "source": [
        "import math\n",
        "import numpy as np\n",
        "import tensorflow as tf\n",
        "from sklearn.preprocessing import MinMaxScaler\n",
        "import matplotlib.pyplot as plt\n",
        "import plotly.graph_objs as go\n",
        "import pandas as pd\n",
        "\n",
        "plt.style.use('fivethirtyeight')\n",
        "\n",
        "\n",
        "def build_model_LSTM():\n",
        "    model = tf.keras.models.Sequential([\n",
        "        tf.keras.layers.LSTM(100, return_sequences=True),\n",
        "        tf.keras.layers.LSTM(100, return_sequences=False),\n",
        "        tf.keras.layers.Dense(50),\n",
        "        tf.keras.layers.Dense(1)\n",
        "    ])\n",
        "\n",
        "    model.compile(optimizer='adam',\n",
        "                  loss='mean_squared_error')\n",
        "\n",
        "    return model\n",
        "\n",
        "def build_model_GRU():\n",
        "    model = tf.keras.models.Sequential([\n",
        "        tf.keras.layers.GRU(100, return_sequences=True, activation='tanh'),\n",
        "        tf.keras.layers.GRU(100, return_sequences=False, activation='tanh'),\n",
        "        tf.keras.layers.Dense(25),\n",
        "        tf.keras.layers.Dense(1)\n",
        "    ])\n",
        "\n",
        "    model.compile(optimizer='adam',\n",
        "                  loss='mean_squared_error')\n",
        "\n",
        "    return model\n",
        "\n",
        "\n",
        "def train_model(df, model):\n",
        "    df = df.toPandas()\n",
        "    data = df.filter(['Close'])\n",
        "    dataset = data.values\n",
        "\n",
        "    training_data_len = math.ceil(len(dataset) * 0.8)\n",
        "\n",
        "    scaler = MinMaxScaler(feature_range=(0, 1))\n",
        "    scaled_data = scaler.fit_transform(dataset)\n",
        "\n",
        "    train_data = scaled_data[0: training_data_len, :]\n",
        "\n",
        "    x_train = []\n",
        "    y_train = []\n",
        "\n",
        "    for i in range(60, len(train_data)):\n",
        "        x_train.append(train_data[i - 60:i, 0])\n",
        "        y_train.append(train_data[i, 0])\n",
        "\n",
        "    x_train, y_train = np.array(x_train), np.array(y_train)\n",
        "\n",
        "    x_train = np.reshape(x_train, (x_train.shape[0], x_train.shape[1], 1))\n",
        "\n",
        "    model.fit(x_train, y_train, batch_size=1, epochs=2)\n",
        "\n",
        "    test_data = scaled_data[training_data_len - 60:, :]\n",
        "\n",
        "    x_test = []\n",
        "    y_test = dataset[training_data_len:, :]\n",
        "\n",
        "    for i in range(60, len(test_data)):\n",
        "        x_test.append(test_data[i - 60:i, 0])\n",
        "\n",
        "    x_test = np.array(x_test)\n",
        "\n",
        "    x_test = np.reshape(x_test, (x_test.shape[0], x_test.shape[1], 1))\n",
        "\n",
        "    predictions = model.predict(x_test)\n",
        "    predictions = scaler.inverse_transform(predictions)\n",
        "\n",
        "    rmse = np.sqrt(np.mean(predictions - y_test) ** 2)\n",
        "\n",
        "    print(\"\\n*** RSME:\" + str(rmse))\n",
        "\n",
        "    train = data[:training_data_len]\n",
        "    valid = data[training_data_len:]\n",
        "    valid['Predictions'] = predictions\n",
        "    plt.figure(figsize=(16,8))\n",
        "    plt.title('Model')\n",
        "    plt.xlabel('Date', fontsize=18)\n",
        "    plt.plot(train['Close'])\n",
        "    plt.plot(valid[['Close', 'Predictions']])\n",
        "    plt.legend(['Train'])\n",
        "\n",
        "\n",
        "def get_prediction(df, model):\n",
        "    scaler = MinMaxScaler(feature_range=(0, 1))\n",
        "    df = df.toPandas()\n",
        "    data = df.filter(['Close'])\n",
        "\n",
        "    last_60_days = data[-60:].values\n",
        "\n",
        "    last_60_days_scaled = scaler.fit_transform(last_60_days)\n",
        "    x_test = [last_60_days_scaled]\n",
        "    x_test = np.array(x_test)\n",
        "    x_test = np.reshape(x_test, (x_test.shape[0], x_test.shape[1], 1))\n",
        "\n",
        "    pred_price = model.predict(x_test)\n",
        "    pred_price = scaler.inverse_transform(pred_price)\n",
        "\n",
        "    return pred_price\n",
        "\n",
        "\n",
        "def save_model_weights(model, stock, period, interval):\n",
        "    model.save_weights('../model_weights/stocks/' + stock + \"_period=\" + period + \"_interval=\" + interval + '.h5')\n",
        "\n",
        "\n",
        "def load_model_weights(model, stock, period, interval):\n",
        "    return model.load_weights(\n",
        "        '../model_weights/stocks/' + stock + \"_period=\" + period + \"_interval=\" + interval + '.h5')\n",
        "\n",
        "\n",
        "def save_model_weights_portfolio(model, stock, id_portfolio):\n",
        "    model.save_weights('../model_weights/portfolios/' + stock + \"_portfolio=\" + str(id_portfolio) + '.h5')\n",
        "\n",
        "\n",
        "def load_model_weights_portfolio(model, stock, id_portfolio):\n",
        "    model.load_weights('../model_weights/portfolios/' + stock + \"_portfolio=\" + str(id_portfolio) + '.h5')\n",
        "\n",
        "\n",
        "def train_portfolio(spark, df_portfolio, id_portfolio):\n",
        "    model = build_model()\n",
        "\n",
        "    stock_close_prices = {}\n",
        "\n",
        "    stock_list = df_portfolio.filter(df_portfolio.ID == id_portfolio) \\\n",
        "        .select(\"Stock_List\").rdd.flatMap(lambda x: x).collect()[0]\n",
        "    min_date = df_portfolio.filter(df_portfolio.ID == id_portfolio) \\\n",
        "        .select(\"Min_Date\").rdd.flatMap(lambda x: x).collect()[0]\n",
        "    max_date = df_portfolio.filter(df_portfolio.ID == id_portfolio) \\\n",
        "        .select(\"Max_Date\").rdd.flatMap(lambda x: x).collect()[0]\n",
        "\n",
        "    for stock in stock_list:\n",
        "        print(\"\\n*** Training model for stock: \" + stock)\n",
        "        df_stock = read_stock_data(spark, stock, \"max\", \"1d\")\n",
        "        df_stock = df_stock.filter(df_stock.DateTime > min_date) \\\n",
        "            .filter(df_stock.DateTime < max_date)\n",
        "\n",
        "        stock_close_prices[stock] = df_stock.select(\"Close\")\n",
        "\n",
        "        train_model(df_stock, model)\n",
        "        print(\"\\n*** Saving weights of model for stock: \" + stock)\n",
        "        save_model_weights_portfolio(model, stock, id_portfolio)\n",
        "\n",
        "\n",
        "def predict_portfolio(spark, df_portfolio, id_portfolio):\n",
        "    model = build_model()\n",
        "    model.build(input_shape=(1, 60, 1))\n",
        "\n",
        "    stock_close_prices = {}\n",
        "    predicted_next_prices = {}\n",
        "\n",
        "    stock_list = df_portfolio.filter(df_portfolio.ID == id_portfolio) \\\n",
        "        .select(\"Stock_List\").rdd.flatMap(lambda x: x).collect()[0]\n",
        "    min_date = df_portfolio.filter(df_portfolio.ID == id_portfolio) \\\n",
        "        .select(\"Min_Date\").rdd.flatMap(lambda x: x).collect()[0]\n",
        "    max_date = df_portfolio.filter(df_portfolio.ID == id_portfolio) \\\n",
        "        .select(\"Max_Date\").rdd.flatMap(lambda x: x).collect()[0]\n",
        "\n",
        "    for stock in stock_list:\n",
        "        df_stock = read_stock_data(spark, stock, \"max\", \"1d\")\n",
        "        df_stock = df_stock.filter(df_stock.DateTime > min_date) \\\n",
        "            .filter(df_stock.DateTime < max_date)\n",
        "\n",
        "        stock_close_prices[stock] = df_stock.select(\"Close\")\n",
        "\n",
        "    for stock in stock_close_prices:\n",
        "        print(\"\\n*** Loading weights for stock: \" + stock + \" Portfolio: \" + str(id_portfolio))\n",
        "        load_model_weights_portfolio(model, stock, id_portfolio)\n",
        "        print(\"*** Getting prediction for \" + stock + \" Portfolio: \" + str(id_portfolio))\n",
        "        predicted_next_prices[stock] = get_prediction(stock_close_prices[stock], model).tolist()[0][0]\n",
        "\n",
        "    print(\"\\n*** Predicted values for the stocks of your portfolio: \")\n",
        "    for key, value in predicted_next_prices.items():\n",
        "        print(key + \": \" + str(value))\n",
        "    print()\n"
      ]
    },
    {
      "cell_type": "code",
      "execution_count": 4,
      "metadata": {
        "id": "mMzlTvwTj2-q"
      },
      "outputs": [],
      "source": [
        "from pyspark.sql import SparkSession\n",
        "\n",
        "spark = SparkSession.builder \\\n",
        "        .master(\"local[1]\") \\\n",
        "        .appName(\"AI_Trading\") \\\n",
        "        .getOrCreate()"
      ]
    },
    {
      "cell_type": "code",
      "execution_count": 5,
      "metadata": {
        "colab": {
          "base_uri": "https://localhost:8080/"
        },
        "id": "WIDsJqvLkMNQ",
        "outputId": "6fbab015-4b0d-479d-c25e-f2b103d682ab"
      },
      "outputs": [
        {
          "output_type": "stream",
          "name": "stdout",
          "text": [
            "Downloading BBVA stock data. Period: max Interval: 1d\n",
            "[*********************100%***********************]  1 of 1 completed\n"
          ]
        }
      ],
      "source": [
        "df = download_stock_data(spark, \"BBVA\", \"max\", \"1d\")"
      ]
    },
    {
      "cell_type": "code",
      "execution_count": 6,
      "metadata": {
        "id": "FVAwsrMh2k0G",
        "colab": {
          "base_uri": "https://localhost:8080/"
        },
        "outputId": "fc609e9b-4de8-4640-dd71-c4b2330ee085"
      },
      "outputs": [
        {
          "output_type": "stream",
          "name": "stderr",
          "text": [
            "/usr/local/lib/python3.10/dist-packages/pyspark/sql/pandas/conversion.py:251: FutureWarning: Passing unit-less datetime64 dtype to .astype is deprecated and will raise in a future version. Pass 'datetime64[ns]' instead\n",
            "  series = series.astype(t, copy=False)\n"
          ]
        }
      ],
      "source": [
        "df_pd = df.toPandas()\n",
        "df_pd = df_pd.set_index('DateTime')\n",
        "df_pd = df_pd.drop('Adj Close', axis=1)"
      ]
    },
    {
      "cell_type": "code",
      "execution_count": 7,
      "metadata": {
        "colab": {
          "base_uri": "https://localhost:8080/",
          "height": 455
        },
        "id": "2wfcpJ-Wa7XG",
        "outputId": "2cd6f11c-371a-43c4-8f75-380cf884a057"
      },
      "outputs": [
        {
          "output_type": "execute_result",
          "data": {
            "text/plain": [
              "                Open      High       Low     Close   Volume      ma30  \\\n",
              "DateTime                                                                \n",
              "1988-12-15  3.844128  3.857569  3.817246  3.817246  1782791       NaN   \n",
              "1988-12-16  3.817246  3.817246  3.803805  3.803805   777471       NaN   \n",
              "1988-12-19  3.803805  3.803805  3.790364  3.790364   411056       NaN   \n",
              "1988-12-20  3.790364  3.803805  3.790364  3.790364   134849       NaN   \n",
              "1988-12-21  3.790364  3.803805  3.790364  3.803805   242727       NaN   \n",
              "...              ...       ...       ...       ...      ...       ...   \n",
              "2023-04-27  7.480000  7.650000  7.460000  7.650000  5233500  7.099333   \n",
              "2023-04-28  7.260000  7.350000  7.250000  7.340000  1483200  7.119667   \n",
              "2023-05-01  7.380000  7.430000  7.290000  7.290000  1889300  7.149667   \n",
              "2023-05-02  7.230000  7.240000  6.990000  7.080000  2346200  7.165333   \n",
              "2023-05-03  6.880000  6.955000  6.855000  6.950000  1160770  7.162000   \n",
              "\n",
              "                ma60      ma90  Performance  \n",
              "DateTime                                     \n",
              "1988-12-15       NaN       NaN          NaN  \n",
              "1988-12-16       NaN       NaN     -0.00352  \n",
              "1988-12-19       NaN       NaN     -0.00353  \n",
              "1988-12-20       NaN       NaN      0.00000  \n",
              "1988-12-21       NaN       NaN      0.00355  \n",
              "...              ...       ...          ...  \n",
              "2023-04-27  7.254833  7.006667      0.05082  \n",
              "2023-04-28  7.254000  7.024889     -0.04052  \n",
              "2023-05-01  7.252500  7.042556     -0.00681  \n",
              "2023-05-02  7.247167  7.055778     -0.02881  \n",
              "2023-05-03  7.242000  7.066000     -0.01836  \n",
              "\n",
              "[8662 rows x 9 columns]"
            ],
            "text/html": [
              "\n",
              "  <div id=\"df-d4e582ff-0b90-43b0-9ac7-528eb9f1a4b5\">\n",
              "    <div class=\"colab-df-container\">\n",
              "      <div>\n",
              "<style scoped>\n",
              "    .dataframe tbody tr th:only-of-type {\n",
              "        vertical-align: middle;\n",
              "    }\n",
              "\n",
              "    .dataframe tbody tr th {\n",
              "        vertical-align: top;\n",
              "    }\n",
              "\n",
              "    .dataframe thead th {\n",
              "        text-align: right;\n",
              "    }\n",
              "</style>\n",
              "<table border=\"1\" class=\"dataframe\">\n",
              "  <thead>\n",
              "    <tr style=\"text-align: right;\">\n",
              "      <th></th>\n",
              "      <th>Open</th>\n",
              "      <th>High</th>\n",
              "      <th>Low</th>\n",
              "      <th>Close</th>\n",
              "      <th>Volume</th>\n",
              "      <th>ma30</th>\n",
              "      <th>ma60</th>\n",
              "      <th>ma90</th>\n",
              "      <th>Performance</th>\n",
              "    </tr>\n",
              "    <tr>\n",
              "      <th>DateTime</th>\n",
              "      <th></th>\n",
              "      <th></th>\n",
              "      <th></th>\n",
              "      <th></th>\n",
              "      <th></th>\n",
              "      <th></th>\n",
              "      <th></th>\n",
              "      <th></th>\n",
              "      <th></th>\n",
              "    </tr>\n",
              "  </thead>\n",
              "  <tbody>\n",
              "    <tr>\n",
              "      <th>1988-12-15</th>\n",
              "      <td>3.844128</td>\n",
              "      <td>3.857569</td>\n",
              "      <td>3.817246</td>\n",
              "      <td>3.817246</td>\n",
              "      <td>1782791</td>\n",
              "      <td>NaN</td>\n",
              "      <td>NaN</td>\n",
              "      <td>NaN</td>\n",
              "      <td>NaN</td>\n",
              "    </tr>\n",
              "    <tr>\n",
              "      <th>1988-12-16</th>\n",
              "      <td>3.817246</td>\n",
              "      <td>3.817246</td>\n",
              "      <td>3.803805</td>\n",
              "      <td>3.803805</td>\n",
              "      <td>777471</td>\n",
              "      <td>NaN</td>\n",
              "      <td>NaN</td>\n",
              "      <td>NaN</td>\n",
              "      <td>-0.00352</td>\n",
              "    </tr>\n",
              "    <tr>\n",
              "      <th>1988-12-19</th>\n",
              "      <td>3.803805</td>\n",
              "      <td>3.803805</td>\n",
              "      <td>3.790364</td>\n",
              "      <td>3.790364</td>\n",
              "      <td>411056</td>\n",
              "      <td>NaN</td>\n",
              "      <td>NaN</td>\n",
              "      <td>NaN</td>\n",
              "      <td>-0.00353</td>\n",
              "    </tr>\n",
              "    <tr>\n",
              "      <th>1988-12-20</th>\n",
              "      <td>3.790364</td>\n",
              "      <td>3.803805</td>\n",
              "      <td>3.790364</td>\n",
              "      <td>3.790364</td>\n",
              "      <td>134849</td>\n",
              "      <td>NaN</td>\n",
              "      <td>NaN</td>\n",
              "      <td>NaN</td>\n",
              "      <td>0.00000</td>\n",
              "    </tr>\n",
              "    <tr>\n",
              "      <th>1988-12-21</th>\n",
              "      <td>3.790364</td>\n",
              "      <td>3.803805</td>\n",
              "      <td>3.790364</td>\n",
              "      <td>3.803805</td>\n",
              "      <td>242727</td>\n",
              "      <td>NaN</td>\n",
              "      <td>NaN</td>\n",
              "      <td>NaN</td>\n",
              "      <td>0.00355</td>\n",
              "    </tr>\n",
              "    <tr>\n",
              "      <th>...</th>\n",
              "      <td>...</td>\n",
              "      <td>...</td>\n",
              "      <td>...</td>\n",
              "      <td>...</td>\n",
              "      <td>...</td>\n",
              "      <td>...</td>\n",
              "      <td>...</td>\n",
              "      <td>...</td>\n",
              "      <td>...</td>\n",
              "    </tr>\n",
              "    <tr>\n",
              "      <th>2023-04-27</th>\n",
              "      <td>7.480000</td>\n",
              "      <td>7.650000</td>\n",
              "      <td>7.460000</td>\n",
              "      <td>7.650000</td>\n",
              "      <td>5233500</td>\n",
              "      <td>7.099333</td>\n",
              "      <td>7.254833</td>\n",
              "      <td>7.006667</td>\n",
              "      <td>0.05082</td>\n",
              "    </tr>\n",
              "    <tr>\n",
              "      <th>2023-04-28</th>\n",
              "      <td>7.260000</td>\n",
              "      <td>7.350000</td>\n",
              "      <td>7.250000</td>\n",
              "      <td>7.340000</td>\n",
              "      <td>1483200</td>\n",
              "      <td>7.119667</td>\n",
              "      <td>7.254000</td>\n",
              "      <td>7.024889</td>\n",
              "      <td>-0.04052</td>\n",
              "    </tr>\n",
              "    <tr>\n",
              "      <th>2023-05-01</th>\n",
              "      <td>7.380000</td>\n",
              "      <td>7.430000</td>\n",
              "      <td>7.290000</td>\n",
              "      <td>7.290000</td>\n",
              "      <td>1889300</td>\n",
              "      <td>7.149667</td>\n",
              "      <td>7.252500</td>\n",
              "      <td>7.042556</td>\n",
              "      <td>-0.00681</td>\n",
              "    </tr>\n",
              "    <tr>\n",
              "      <th>2023-05-02</th>\n",
              "      <td>7.230000</td>\n",
              "      <td>7.240000</td>\n",
              "      <td>6.990000</td>\n",
              "      <td>7.080000</td>\n",
              "      <td>2346200</td>\n",
              "      <td>7.165333</td>\n",
              "      <td>7.247167</td>\n",
              "      <td>7.055778</td>\n",
              "      <td>-0.02881</td>\n",
              "    </tr>\n",
              "    <tr>\n",
              "      <th>2023-05-03</th>\n",
              "      <td>6.880000</td>\n",
              "      <td>6.955000</td>\n",
              "      <td>6.855000</td>\n",
              "      <td>6.950000</td>\n",
              "      <td>1160770</td>\n",
              "      <td>7.162000</td>\n",
              "      <td>7.242000</td>\n",
              "      <td>7.066000</td>\n",
              "      <td>-0.01836</td>\n",
              "    </tr>\n",
              "  </tbody>\n",
              "</table>\n",
              "<p>8662 rows × 9 columns</p>\n",
              "</div>\n",
              "      <button class=\"colab-df-convert\" onclick=\"convertToInteractive('df-d4e582ff-0b90-43b0-9ac7-528eb9f1a4b5')\"\n",
              "              title=\"Convert this dataframe to an interactive table.\"\n",
              "              style=\"display:none;\">\n",
              "        \n",
              "  <svg xmlns=\"http://www.w3.org/2000/svg\" height=\"24px\"viewBox=\"0 0 24 24\"\n",
              "       width=\"24px\">\n",
              "    <path d=\"M0 0h24v24H0V0z\" fill=\"none\"/>\n",
              "    <path d=\"M18.56 5.44l.94 2.06.94-2.06 2.06-.94-2.06-.94-.94-2.06-.94 2.06-2.06.94zm-11 1L8.5 8.5l.94-2.06 2.06-.94-2.06-.94L8.5 2.5l-.94 2.06-2.06.94zm10 10l.94 2.06.94-2.06 2.06-.94-2.06-.94-.94-2.06-.94 2.06-2.06.94z\"/><path d=\"M17.41 7.96l-1.37-1.37c-.4-.4-.92-.59-1.43-.59-.52 0-1.04.2-1.43.59L10.3 9.45l-7.72 7.72c-.78.78-.78 2.05 0 2.83L4 21.41c.39.39.9.59 1.41.59.51 0 1.02-.2 1.41-.59l7.78-7.78 2.81-2.81c.8-.78.8-2.07 0-2.86zM5.41 20L4 18.59l7.72-7.72 1.47 1.35L5.41 20z\"/>\n",
              "  </svg>\n",
              "      </button>\n",
              "      \n",
              "  <style>\n",
              "    .colab-df-container {\n",
              "      display:flex;\n",
              "      flex-wrap:wrap;\n",
              "      gap: 12px;\n",
              "    }\n",
              "\n",
              "    .colab-df-convert {\n",
              "      background-color: #E8F0FE;\n",
              "      border: none;\n",
              "      border-radius: 50%;\n",
              "      cursor: pointer;\n",
              "      display: none;\n",
              "      fill: #1967D2;\n",
              "      height: 32px;\n",
              "      padding: 0 0 0 0;\n",
              "      width: 32px;\n",
              "    }\n",
              "\n",
              "    .colab-df-convert:hover {\n",
              "      background-color: #E2EBFA;\n",
              "      box-shadow: 0px 1px 2px rgba(60, 64, 67, 0.3), 0px 1px 3px 1px rgba(60, 64, 67, 0.15);\n",
              "      fill: #174EA6;\n",
              "    }\n",
              "\n",
              "    [theme=dark] .colab-df-convert {\n",
              "      background-color: #3B4455;\n",
              "      fill: #D2E3FC;\n",
              "    }\n",
              "\n",
              "    [theme=dark] .colab-df-convert:hover {\n",
              "      background-color: #434B5C;\n",
              "      box-shadow: 0px 1px 3px 1px rgba(0, 0, 0, 0.15);\n",
              "      filter: drop-shadow(0px 1px 2px rgba(0, 0, 0, 0.3));\n",
              "      fill: #FFFFFF;\n",
              "    }\n",
              "  </style>\n",
              "\n",
              "      <script>\n",
              "        const buttonEl =\n",
              "          document.querySelector('#df-d4e582ff-0b90-43b0-9ac7-528eb9f1a4b5 button.colab-df-convert');\n",
              "        buttonEl.style.display =\n",
              "          google.colab.kernel.accessAllowed ? 'block' : 'none';\n",
              "\n",
              "        async function convertToInteractive(key) {\n",
              "          const element = document.querySelector('#df-d4e582ff-0b90-43b0-9ac7-528eb9f1a4b5');\n",
              "          const dataTable =\n",
              "            await google.colab.kernel.invokeFunction('convertToInteractive',\n",
              "                                                     [key], {});\n",
              "          if (!dataTable) return;\n",
              "\n",
              "          const docLinkHtml = 'Like what you see? Visit the ' +\n",
              "            '<a target=\"_blank\" href=https://colab.research.google.com/notebooks/data_table.ipynb>data table notebook</a>'\n",
              "            + ' to learn more about interactive tables.';\n",
              "          element.innerHTML = '';\n",
              "          dataTable['output_type'] = 'display_data';\n",
              "          await google.colab.output.renderOutput(dataTable, element);\n",
              "          const docLink = document.createElement('div');\n",
              "          docLink.innerHTML = docLinkHtml;\n",
              "          element.appendChild(docLink);\n",
              "        }\n",
              "      </script>\n",
              "    </div>\n",
              "  </div>\n",
              "  "
            ]
          },
          "metadata": {},
          "execution_count": 7
        }
      ],
      "source": [
        "df_pd"
      ]
    },
    {
      "cell_type": "code",
      "execution_count": 8,
      "metadata": {
        "colab": {
          "base_uri": "https://localhost:8080/",
          "height": 737
        },
        "id": "Stq3kSv2Ookb",
        "outputId": "60d2df3c-d7ab-46d5-aab3-5c4ad1acb318"
      },
      "outputs": [
        {
          "output_type": "display_data",
          "data": {
            "text/plain": [
              "<Figure size 1600x800 with 1 Axes>"
            ],
            "image/png": "[encoded data removed]"
          },
          "metadata": {}
        }
      ],
      "source": [
        "plt.figure(figsize=(16,8))\n",
        "plt.plot(df_pd['Close'])\n",
        "plt.plot(df_pd['ma90'])\n",
        "plt.xlabel('DateTime')\n",
        "plt.show()"
      ]
    },
    {
      "cell_type": "code",
      "source": [
        "df_pd = df_pd.iloc[100:]\n",
        "df_pd.values[0]"
      ],
      "metadata": {
        "colab": {
          "base_uri": "https://localhost:8080/"
        },
        "id": "GjwBh6VyCq1h",
        "outputId": "a5909bd4-e710-45ed-b35e-ffd24e964094"
      },
      "execution_count": 9,
      "outputs": [
        {
          "output_type": "execute_result",
          "data": {
            "text/plain": [
              "array([ 3.38713408e+00,  3.38713408e+00,  3.38713408e+00,  3.38713408e+00,\n",
              "        1.58098000e+05,  3.40102304e+00,  3.55425044e+00,  3.62384497e+00,\n",
              "       -3.95000000e-03])"
            ]
          },
          "metadata": {},
          "execution_count": 9
        }
      ]
    },
    {
      "cell_type": "code",
      "execution_count": 10,
      "metadata": {
        "id": "eKSzISMPOne6"
      },
      "outputs": [],
      "source": [
        "#data = df_pd.filter(['Close'])\n",
        "dataset = df_pd.values"
      ]
    },
    {
      "cell_type": "code",
      "execution_count": 11,
      "metadata": {
        "colab": {
          "base_uri": "https://localhost:8080/"
        },
        "id": "5P2aZNDn3ueC",
        "outputId": "443b0cb7-b689-444e-86ba-2a4d8b725c5c"
      },
      "outputs": [
        {
          "output_type": "execute_result",
          "data": {
            "text/plain": [
              "array([[ 3.38713408e+00,  3.38713408e+00,  3.38713408e+00, ...,\n",
              "         3.55425044e+00,  3.62384497e+00, -3.95000000e-03],\n",
              "       [ 3.38713408e+00,  3.40057492e+00,  3.38713408e+00, ...,\n",
              "         3.54820199e+00,  3.61921529e+00,  3.97000000e-03],\n",
              "       [ 3.40057492e+00,  3.42745709e+00,  3.40057492e+00, ...,\n",
              "         3.54215354e+00,  3.61473495e+00,  0.00000000e+00],\n",
              "       ...,\n",
              "       [ 7.38000011e+00,  7.42999983e+00,  7.28999996e+00, ...,\n",
              "         7.25250003e+00,  7.04255555e+00, -6.81000000e-03],\n",
              "       [ 7.23000002e+00,  7.23999977e+00,  6.98999977e+00, ...,\n",
              "         7.24716669e+00,  7.05577778e+00, -2.88100000e-02],\n",
              "       [ 6.88000011e+00,  6.95499992e+00,  6.85500002e+00, ...,\n",
              "         7.24200002e+00,  7.06600000e+00, -1.83600000e-02]])"
            ]
          },
          "metadata": {},
          "execution_count": 11
        }
      ],
      "source": [
        "dataset"
      ]
    },
    {
      "cell_type": "code",
      "execution_count": 12,
      "metadata": {
        "colab": {
          "base_uri": "https://localhost:8080/"
        },
        "id": "HKsmW9G53XGQ",
        "outputId": "db561bfc-b105-46f1-b0e9-65aa9d2e0a17"
      },
      "outputs": [
        {
          "output_type": "execute_result",
          "data": {
            "text/plain": [
              "6850"
            ]
          },
          "metadata": {},
          "execution_count": 12
        }
      ],
      "source": [
        "training_data_len = math.ceil(len(dataset) * 0.8)\n",
        "\n",
        "training_data_len"
      ]
    },
    {
      "cell_type": "code",
      "execution_count": 13,
      "metadata": {
        "colab": {
          "base_uri": "https://localhost:8080/"
        },
        "id": "Fi6rAyrq3XMa",
        "outputId": "6c55eb3a-02a7-4306-8779-52ae05118bb1"
      },
      "outputs": [
        {
          "output_type": "execute_result",
          "data": {
            "text/plain": [
              "array([[0.05741849, 0.05734736, 0.05817571, ..., 0.06138427, 0.0623442 ,\n",
              "        0.48297631],\n",
              "       [0.05741849, 0.05792083, 0.05817571, ..., 0.06110577, 0.06213058,\n",
              "        0.50170237],\n",
              "       [0.05799266, 0.05906778, 0.0587517 , ..., 0.06082726, 0.06192384,\n",
              "        0.49231569],\n",
              "       ...,\n",
              "       [0.22798922, 0.22984008, 0.225428  , ..., 0.23167175, 0.22009241,\n",
              "        0.47621412],\n",
              "       [0.22158138, 0.22173355, 0.21257188, ..., 0.23142617, 0.22070252,\n",
              "        0.42419729],\n",
              "       [0.20662978, 0.20957376, 0.20678664, ..., 0.23118827, 0.2211742 ,\n",
              "        0.44890528]])"
            ]
          },
          "metadata": {},
          "execution_count": 13
        }
      ],
      "source": [
        "scaler = MinMaxScaler(feature_range=(0, 1))\n",
        "scaled_data = scaler.fit_transform(dataset)\n",
        "scaled_data"
      ]
    },
    {
      "cell_type": "code",
      "execution_count": 14,
      "metadata": {
        "id": "j1v_lH6B3XOw"
      },
      "outputs": [],
      "source": [
        "train_data = scaled_data[0: training_data_len, :]"
      ]
    },
    {
      "cell_type": "code",
      "source": [
        "train_data[1]"
      ],
      "metadata": {
        "colab": {
          "base_uri": "https://localhost:8080/"
        },
        "id": "Y5ujrQ8gELCi",
        "outputId": "00226957-2c66-455c-9d8a-57eb7379a2d8"
      },
      "execution_count": 15,
      "outputs": [
        {
          "output_type": "execute_result",
          "data": {
            "text/plain": [
              "array([0.05741849, 0.05792083, 0.05817571, 0.05870301, 0.00128136,\n",
              "       0.05618575, 0.06110577, 0.06213058, 0.50170237])"
            ]
          },
          "metadata": {},
          "execution_count": 15
        }
      ]
    },
    {
      "cell_type": "code",
      "execution_count": 16,
      "metadata": {
        "id": "rmAcGbqC3XRN"
      },
      "outputs": [],
      "source": [
        "x_train = []\n",
        "y_train = []\n",
        "\n",
        "for i in range(100, len(train_data)):\n",
        "    x_train.append(train_data[i - 100:i])\n",
        "    y_train.append(train_data[i, 3])"
      ]
    },
    {
      "cell_type": "code",
      "execution_count": 17,
      "metadata": {
        "colab": {
          "base_uri": "https://localhost:8080/"
        },
        "id": "MvTu4-Ad4jgQ",
        "outputId": "6e54c3f0-f27e-44e5-c2c2-2339ea0d8b4c"
      },
      "outputs": [
        {
          "output_type": "execute_result",
          "data": {
            "text/plain": [
              "array([0.07349565, 0.07340461, 0.07430362, 0.07424204, 0.00209454,\n",
              "       0.07223594, 0.06810446, 0.05977036, 0.49231569])"
            ]
          },
          "metadata": {},
          "execution_count": 17
        }
      ],
      "source": [
        "x_train[0][99]"
      ]
    },
    {
      "cell_type": "code",
      "execution_count": 18,
      "metadata": {
        "colab": {
          "base_uri": "https://localhost:8080/"
        },
        "id": "kzKIrYEl4jjy",
        "outputId": "0d25c4f9-2bd7-4b17-8d4c-9e467ffea71b"
      },
      "outputs": [
        {
          "output_type": "execute_result",
          "data": {
            "text/plain": [
              "0.0730909966477437"
            ]
          },
          "metadata": {},
          "execution_count": 18
        }
      ],
      "source": [
        "y_train[0]"
      ]
    },
    {
      "cell_type": "code",
      "execution_count": 19,
      "metadata": {
        "id": "Eubh1zEjVWMe"
      },
      "outputs": [],
      "source": [
        "x_train, y_train = np.array(x_train), np.array(y_train)"
      ]
    },
    {
      "cell_type": "code",
      "execution_count": 20,
      "metadata": {
        "colab": {
          "base_uri": "https://localhost:8080/"
        },
        "id": "MuyZ2rjoVadw",
        "outputId": "0a944d4d-d2ad-40fd-9bbd-8e41871d363e"
      },
      "outputs": [
        {
          "output_type": "execute_result",
          "data": {
            "text/plain": [
              "(6750, 100, 9)"
            ]
          },
          "metadata": {},
          "execution_count": 20
        }
      ],
      "source": [
        "x_train.shape"
      ]
    },
    {
      "cell_type": "code",
      "execution_count": 21,
      "metadata": {
        "colab": {
          "base_uri": "https://localhost:8080/"
        },
        "id": "j83-n4WNVaoU",
        "outputId": "941296e5-67c7-46b7-aa0e-2f62bca69019"
      },
      "outputs": [
        {
          "output_type": "execute_result",
          "data": {
            "text/plain": [
              "(6750,)"
            ]
          },
          "metadata": {},
          "execution_count": 21
        }
      ],
      "source": [
        "y_train.shape"
      ]
    },
    {
      "cell_type": "code",
      "execution_count": 22,
      "metadata": {
        "id": "18Gx8WX03XTl"
      },
      "outputs": [],
      "source": [
        "#x_train = np.reshape(x_train, (x_train.shape[0], x_train.shape[1], 1))"
      ]
    },
    {
      "cell_type": "code",
      "execution_count": 23,
      "metadata": {
        "id": "kP2YAgpyR4ED"
      },
      "outputs": [],
      "source": [
        "#x_train.shape"
      ]
    },
    {
      "cell_type": "code",
      "execution_count": 24,
      "metadata": {
        "id": "2QMIvT7t5GBP"
      },
      "outputs": [],
      "source": [
        "#x_train.shape[0]"
      ]
    },
    {
      "cell_type": "code",
      "execution_count": 25,
      "metadata": {
        "id": "npu7fscz5GEH"
      },
      "outputs": [],
      "source": [
        "#x_train.shape[1]"
      ]
    },
    {
      "cell_type": "code",
      "source": [
        "#x_train[0]"
      ],
      "metadata": {
        "id": "_0gyFo80B5b6"
      },
      "execution_count": 26,
      "outputs": []
    },
    {
      "cell_type": "code",
      "execution_count": 27,
      "metadata": {
        "id": "e8QKLANcSQ3q"
      },
      "outputs": [],
      "source": [
        "#y_train.shape"
      ]
    },
    {
      "cell_type": "code",
      "execution_count": 28,
      "metadata": {
        "id": "CpUekxpokUbO"
      },
      "outputs": [],
      "source": [
        "model_LSTM = build_model_LSTM()"
      ]
    },
    {
      "cell_type": "code",
      "execution_count": null,
      "metadata": {
        "colab": {
          "base_uri": "https://localhost:8080/"
        },
        "id": "emNolAZU42w3",
        "outputId": "047f28e1-232d-47c0-b9d6-394991ac7411"
      },
      "outputs": [
        {
          "output_type": "stream",
          "name": "stdout",
          "text": [
            "Epoch 1/5\n",
            "6158/6750 [==========================>...] - ETA: 5s - loss: 8.3865e-04"
          ]
        }
      ],
      "source": [
        "model_LSTM.fit(x_train, y_train, batch_size=1, epochs=5)"
      ]
    },
    {
      "cell_type": "code",
      "execution_count": null,
      "metadata": {
        "id": "mXkI-61C6Eao"
      },
      "outputs": [],
      "source": [
        "test_data = scaled_data[training_data_len - 100:, :]\n",
        "test_data"
      ]
    },
    {
      "cell_type": "code",
      "execution_count": null,
      "metadata": {
        "id": "LOmyiCg59mCL"
      },
      "outputs": [],
      "source": [
        "len(test_data)"
      ]
    },
    {
      "cell_type": "code",
      "execution_count": null,
      "metadata": {
        "id": "7onNnv6Z3XXn"
      },
      "outputs": [],
      "source": [
        "x_test = []\n",
        "y_test = dataset[training_data_len:, 3]"
      ]
    },
    {
      "cell_type": "code",
      "source": [
        "y_test.shape"
      ],
      "metadata": {
        "id": "aU5koUF-VV5C"
      },
      "execution_count": null,
      "outputs": []
    },
    {
      "cell_type": "code",
      "execution_count": null,
      "metadata": {
        "id": "VfNRv4OZ3Xae"
      },
      "outputs": [],
      "source": [
        "for i in range(100, len(test_data)):\n",
        "    x_test.append(test_data[i - 100:i])\n",
        "\n",
        "x_test = np.array(x_test)"
      ]
    },
    {
      "cell_type": "code",
      "execution_count": null,
      "metadata": {
        "id": "G84NUACv9vsB"
      },
      "outputs": [],
      "source": [
        "len(x_test[0])"
      ]
    },
    {
      "cell_type": "code",
      "execution_count": null,
      "metadata": {
        "id": "vLJ_DTAy-SOz"
      },
      "outputs": [],
      "source": [
        "#x_test = np.reshape(x_test, (x_test.shape[0], x_test.shape[1], 1))"
      ]
    },
    {
      "cell_type": "code",
      "execution_count": null,
      "metadata": {
        "id": "kUtxW9V_-SVg"
      },
      "outputs": [],
      "source": [
        "x_test.shape"
      ]
    },
    {
      "cell_type": "code",
      "execution_count": null,
      "metadata": {
        "id": "YNFJnz0e3XdX"
      },
      "outputs": [],
      "source": [
        "predictions = model_LSTM.predict(x_test)"
      ]
    },
    {
      "cell_type": "code",
      "execution_count": null,
      "metadata": {
        "id": "P-ZUxDh9-hjW"
      },
      "outputs": [],
      "source": [
        "predictions.shape"
      ]
    },
    {
      "cell_type": "code",
      "source": [
        "predictions"
      ],
      "metadata": {
        "id": "yoq5e2TuUrAK"
      },
      "execution_count": null,
      "outputs": []
    },
    {
      "cell_type": "code",
      "source": [
        "ret = []\n",
        "\n",
        "for i in predictions:\n",
        "  arr = [i[0], 0.1, 0.2, 0.3, 0.4, 0.5, 0.6, 0.7, 0.8]\n",
        "  arr = np.array(arr, dtype='float32')\n",
        "  ret.append(arr)"
      ],
      "metadata": {
        "id": "LCREZeSrWYht"
      },
      "execution_count": null,
      "outputs": []
    },
    {
      "cell_type": "code",
      "source": [
        "predictions = np.array(ret, dtype='float32')"
      ],
      "metadata": {
        "id": "tRVtM0sQXsly"
      },
      "execution_count": null,
      "outputs": []
    },
    {
      "cell_type": "code",
      "source": [
        "predictions"
      ],
      "metadata": {
        "id": "LSDx-QhJX91H"
      },
      "execution_count": null,
      "outputs": []
    },
    {
      "cell_type": "code",
      "source": [
        "predictions.shape"
      ],
      "metadata": {
        "id": "UKXlWZHqYHEn"
      },
      "execution_count": null,
      "outputs": []
    },
    {
      "cell_type": "code",
      "source": [
        "predictions = scaler.inverse_transform(predictions)"
      ],
      "metadata": {
        "id": "QRNHQLc7YQWU"
      },
      "execution_count": null,
      "outputs": []
    },
    {
      "cell_type": "code",
      "source": [
        "predictions"
      ],
      "metadata": {
        "id": "vmYHcVfsY6Ck"
      },
      "execution_count": null,
      "outputs": []
    },
    {
      "cell_type": "code",
      "source": [
        "ret = []\n",
        "\n",
        "for i in predictions:\n",
        "  ret.append(i[0])"
      ],
      "metadata": {
        "id": "pk5LxVNEYcyO"
      },
      "execution_count": null,
      "outputs": []
    },
    {
      "cell_type": "code",
      "source": [
        "predictions = np.array(ret, dtype='float32')"
      ],
      "metadata": {
        "id": "VtHueec4Yhw8"
      },
      "execution_count": null,
      "outputs": []
    },
    {
      "cell_type": "code",
      "source": [
        "predictions"
      ],
      "metadata": {
        "id": "fqQQE03aZTBo"
      },
      "execution_count": null,
      "outputs": []
    },
    {
      "cell_type": "code",
      "source": [
        "predictions = np.reshape(predictions, (predictions.shape[0], 1))\n",
        "predictions.shape"
      ],
      "metadata": {
        "id": "FzO-xqwXYpWU"
      },
      "execution_count": null,
      "outputs": []
    },
    {
      "cell_type": "code",
      "execution_count": null,
      "metadata": {
        "id": "zgF0o3L5955L"
      },
      "outputs": [],
      "source": [
        "rmse = np.sqrt(np.mean(predictions - y_test) ** 2)"
      ]
    },
    {
      "cell_type": "code",
      "execution_count": null,
      "metadata": {
        "id": "V3clBRb73kDa"
      },
      "outputs": [],
      "source": [
        "print(\"\\n*** RSME:\" + str(rmse))"
      ]
    },
    {
      "cell_type": "code",
      "execution_count": null,
      "metadata": {
        "id": "z3Jn8ait3k4p"
      },
      "outputs": [],
      "source": [
        "train = df_pd[:training_data_len]\n",
        "valid = df_pd[training_data_len:]\n",
        "valid['Predictions'] = predictions\n",
        "plt.figure(figsize=(16,8))\n",
        "plt.title('Model')\n",
        "plt.xlabel('DateTime', fontsize=18)\n",
        "#plt.plot(train['Close'])\n",
        "plt.plot(valid[['Close', 'Predictions']])\n",
        "#plt.legend(['Train'])"
      ]
    }
  ],
  "metadata": {
    "accelerator": "GPU",
    "colab": {
      "provenance": []
    },
    "gpuClass": "standard",
    "kernelspec": {
      "display_name": "Python 3",
      "name": "python3"
    },
    "language_info": {
      "name": "python"
    }
  },
  "nbformat": 4,
  "nbformat_minor": 0
}